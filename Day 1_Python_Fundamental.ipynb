{
 "cells": [
  {
   "cell_type": "code",
   "execution_count": null,
   "metadata": {},
   "outputs": [],
   "source": [
    "\"\"\"Step 1: Down Load Anaconda\n",
    "\n",
    "Steps to be followed:\n",
    "\n",
    "1.Open the Link \n",
    "www.anaconda.com\n",
    "\n",
    "2.Select [GET STARTED] Option.\n",
    "\n",
    "3.Select the Anaconda Indivisual edition.--- DownLoad\n",
    "\n",
    "4.Select Python 3.7 Click Download (According to OS choose the download the option)\n",
    "\n",
    "5.Once it get download, Run it in System. ---- 4Times Next---- Install\n",
    "\n",
    "6.Shortcut icon will be created on Desktop as--- Anaconda Navigator --- From that Lunch Jupyter notebook.\n",
    "\n",
    "7.It will be opened in internet explorer or google crom.\n",
    "\n",
    "8.Select New---> Open Python Notebook----> Thats all\n",
    "\n",
    "\n",
    "\n",
    "Step 2:www.github.com -------------->Online storage Repository:\n",
    "\n",
    "Steps to be followed:\n",
    "\n",
    "1. Open the Link.\n",
    "\n",
    "2.Complete the signup process.\n",
    "\n",
    "3.Do sign in in in the github.\n",
    "\n",
    "4.Top left side -----> Create the repository name ----> Python_Fundamentals.\n",
    "\n",
    "5.Create the repository name.----> Python_Fundamentals.\n",
    "\n",
    "6.Add discription.(Practice File)\n",
    "\n",
    "7.Upload Files. -----> Do Commit the file.\n",
    "\n",
    "\"\"\"\n",
    "\n",
    "\n",
    "\n",
    "\n",
    "    "
   ]
  },
  {
   "cell_type": "code",
   "execution_count": 5,
   "metadata": {},
   "outputs": [
    {
     "name": "stdout",
     "output_type": "stream",
     "text": [
      "Follow the above two steps before starting the session: \n",
      "1.install Anaconda and\n",
      "2.Github Sign in for stoaring files\n"
     ]
    }
   ],
   "source": [
    "print(\"Follow the above two steps before starting the session: \\n1.install Anaconda and\\n2.Github Sign in for stoaring files\");"
   ]
  },
  {
   "cell_type": "code",
   "execution_count": null,
   "metadata": {},
   "outputs": [],
   "source": []
  }
 ],
 "metadata": {
  "kernelspec": {
   "display_name": "Python 3",
   "language": "python",
   "name": "python3"
  },
  "language_info": {
   "codemirror_mode": {
    "name": "ipython",
    "version": 3
   },
   "file_extension": ".py",
   "mimetype": "text/x-python",
   "name": "python",
   "nbconvert_exporter": "python",
   "pygments_lexer": "ipython3",
   "version": "3.7.4"
  }
 },
 "nbformat": 4,
 "nbformat_minor": 2
}
